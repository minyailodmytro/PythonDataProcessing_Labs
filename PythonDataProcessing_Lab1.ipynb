{
 "cells": [
  {
   "cell_type": "markdown",
   "id": "a203e6fb-dd7b-44a1-901e-7b459c4f9b34",
   "metadata": {},
   "source": [
    "# Laboratory Work #1 \"Jupyter Notebook Basics\"\n",
    "## Executed by student of group KN-222b.e. Miniailo Dmytro"
   ]
  },
  {
   "cell_type": "code",
   "execution_count": 2,
   "id": "3ca694d6-89a5-43f4-8581-77bb178f0e19",
   "metadata": {},
   "outputs": [
    {
     "data": {
      "text/html": [
       "<center><svg width=\"450\" height=\"300\" xmlns=\"http://www.w3.org/2000/svg\">\n",
       "  <!-- Red stripe -->\n",
       "  <rect width=\"450\" height=\"100\" y=\"0\" fill=\"#ce1126\" />\n",
       "  \n",
       "  <!-- Yellow stripe -->\n",
       "  <rect width=\"450\" height=\"100\" y=\"100\" fill=\"#fcd116\" />\n",
       "  \n",
       "  <!-- Green stripe -->\n",
       "  <rect width=\"450\" height=\"100\" y=\"200\" fill=\"#006b3f\" />\n",
       "\n",
       "  <!-- Black star -->\n",
       "  <polygon points=\"225,110 234,140 265,140 240,160 250,190 225,170 200,190 210,160 185,140 216,140\"\n",
       "           fill=\"black\" />\n",
       "</svg></center>\n"
      ],
      "text/plain": [
       "<IPython.core.display.HTML object>"
      ]
     },
     "metadata": {},
     "output_type": "display_data"
    }
   ],
   "source": [
    "%%HTML\n",
    "<center><svg width=\"450\" height=\"300\" xmlns=\"http://www.w3.org/2000/svg\">\n",
    "  <!-- Red stripe -->\n",
    "  <rect width=\"450\" height=\"100\" y=\"0\" fill=\"#ce1126\" />\n",
    "  \n",
    "  <!-- Yellow stripe -->\n",
    "  <rect width=\"450\" height=\"100\" y=\"100\" fill=\"#fcd116\" />\n",
    "  \n",
    "  <!-- Green stripe -->\n",
    "  <rect width=\"450\" height=\"100\" y=\"200\" fill=\"#006b3f\" />\n",
    "\n",
    "  <!-- Black star -->\n",
    "  <polygon points=\"225,110 234,140 265,140 240,160 250,190 225,170 200,190 210,160 185,140 216,140\"\n",
    "           fill=\"black\" />\n",
    "</svg></center>\n"
   ]
  },
  {
   "cell_type": "markdown",
   "id": "e5468905-ab29-4c7b-bd97-a39586ab10ad",
   "metadata": {},
   "source": [
    "# Ghana\n",
    "\n",
    "Ghana, officially the Republic of Ghana, is a country in West Africa. It lies adjacent to the Gulf of Guinea and the Atlantic Ocean to the south, sharing a border with Ivory Coast in the west, Burkina Faso in the north, and Togo in the east. Ghana covers an area of 239,567 km2, spanning diverse ecologies, from coastal savannas to tropical rainforests. With nearly 35 million inhabitants, Ghana is the second-most populous country in West Africa. The capital and largest city is Accra; other significant cities include Kumasi, Tamale, and Sekondi-Takoradi. In 1957 Ghana became the first colony in Sub-Saharan Africa to achieve sovereignty, under the leadership of Kwame Nkrumah.\n",
    "\n",
    "## Area\n",
    "\n",
    "- **Total**\n",
    "\n",
    "    239,567 km2\n",
    "\n",
    "- **Water (%)**\n",
    "\n",
    "    4.61 (11,000 km2)\n",
    "\n",
    "## Population\n",
    "\n",
    "- **2024 estimate**\n",
    "\n",
    "    34,589,092\n",
    "  \n",
    "- **Density**\n",
    "\n",
    "    101.5/km2\n",
    "\n",
    "## Government\n",
    "Unitary presidential republic\n",
    "\n",
    "| <ins style=\"color:#382895\">Position</ins>     | <ins style=\"color:#953a28\">Name</ins>     |\n",
    "|-------------------------|---------------------|\n",
    "| *President*             | Nana Akufo-Addo     |\n",
    "| *Vice-President*        | Mahamudu Bawumia    |\n",
    "| *Speaker of Parliament* | Alban Bagbin        |\n",
    "| *Chief Justice*         | Gertrude Tokornoo   |\n",
    "\n",
    "## Celebrities\n",
    "\n",
    "- Nadia Buari\n",
    "\n",
    "    <img src=\"http://t2.gstatic.com/licensed-image?q=tbn:ANd9GcTz1GnmL7tRV_vfHXrVuXGmwZlAhhi11aXbDcx21dtafSzzA4UhoDhQGT4WgXq6rMti\"\n",
    "        width=\"250\"\n",
    "        style=\"border:5px double black\">\n",
    "    \n",
    "    - Actress\n",
    "    - Business\n",
    "    - Former model\n",
    "- Yvonne Nelson\n",
    "\n",
    "    <img src=\"https://source.boomplaymusic.com/buzzgroup2/M00/16/1B/rBEe_F_08JGAA0IRAAElD0YdnOg729.jpg\"\n",
    "        width=\"250\"\n",
    "        style=\"border:5px double black\">\n",
    "    \n",
    "    - Actress\n",
    "    - Model\n",
    "    - Film producer\n",
    "    - Entrepreneur\n",
    "- Jackie Appiah\n",
    "\n",
    "    <img src=\"https://encrypted-tbn1.gstatic.com/images?q=tbn:ANd9GcTPzr4ekbT9vPCJ0dnHoEF25megXh03c9ctvIPDOuYQh2EzCBSi\"\n",
    "        width=\"250\"\n",
    "        style=\"border:5px double black\">\n",
    "    \n",
    "    - Actress\n",
    "- Sarkodie\n",
    "\n",
    "    <img src=\"https://t0.gstatic.com/licensed-image?q=tbn:ANd9GcSNsWTtGXbb_1DkroPyn2rCECEacYPC53ib1zwfcrUKaVH1Asw89MNBs7UtFcaBjmCW\"\n",
    "        width=\"250\"\n",
    "        style=\"border:5px double black\">\n",
    "    \n",
    "    - Rapper\n",
    "        - Hip Hop\n",
    "        - Hiplife\n",
    "        - Afrobeats\n",
    "- Asamoah Gyan\n",
    "\n",
    "    <img src=\"https://upload.wikimedia.org/wikipedia/commons/thumb/7/71/Asamoah_Gyan_%282014%29.jpg/330px-Asamoah_Gyan_%282014%29.jpg\"\n",
    "        width=\"250\"\n",
    "        style=\"border:5px double black\">\n",
    "    \n",
    "    - Footballer\n",
    "        - Striker\n",
    "\n",
    "## Cultural and national attractions\n",
    "\n",
    "[Kwame Nkrumah Mausoleum](https://en.wikipedia.org/wiki/Kwame_Nkrumah_Mausoleum)\n",
    "<center>\n",
    "    <img src=\"https://upload.wikimedia.org/wikipedia/commons/1/17/Kwame_Nkrumah_Memorial_Park.jpg\"\n",
    "        width=450>\n",
    "</center>\n",
    "\n",
    "[Kakum National Park](https://en.wikipedia.org/wiki/Kakum_National_Park)\n",
    "<center>\n",
    "    <img src=\"https://upload.wikimedia.org/wikipedia/commons/thumb/1/16/Kakum.jpg/426px-Kakum.jpg\"\n",
    "        width=450>\n",
    "</center>\n",
    "\n",
    "[Independence Arch](https://en.wikipedia.org/wiki/Independence_Arch)\n",
    "<center>\n",
    "    <img src=\"https://upload.wikimedia.org/wikipedia/commons/thumb/4/46/Independence_Arch_Accra_Ghana.jpg/330px-Independence_Arch_Accra_Ghana.jpg\"\n",
    "        width=450>\n",
    "</center>\n",
    "\n",
    "[National Museum of Ghana](https://en.wikipedia.org/wiki/National_Museum_of_Ghana)\n",
    "<center>\n",
    "    <img src=\"https://upload.wikimedia.org/wikipedia/commons/thumb/8/88/Museum_Ground_floor_from_1st_floor.jpg/1280px-Museum_Ground_floor_from_1st_floor.jpg\"\n",
    "        width=450>\n",
    "</center>\n",
    "\n",
    "[Labadi Beach](https://en.wikipedia.org/wiki/Labadi_Beach)\n",
    "<center>\n",
    "    <img src=\"https://upload.wikimedia.org/wikipedia/commons/thumb/3/39/Solnedgang_p%C3%A5_Labadi_beach.jpg/375px-Solnedgang_p%C3%A5_Labadi_beach.jpg\"\n",
    "        width=450>\n",
    "</center>\n"
   ]
  },
  {
   "cell_type": "code",
   "execution_count": 4,
   "id": "41db9d65-4a13-4da1-9588-4cbb0d070a49",
   "metadata": {},
   "outputs": [
    {
     "name": "stdin",
     "output_type": "stream",
     "text": [
      "Enter the value of k:  5\n"
     ]
    },
    {
     "name": "stdout",
     "output_type": "stream",
     "text": [
      "5th prime is 11\n"
     ]
    }
   ],
   "source": [
    "import math\n",
    "\n",
    "def task_5():\n",
    "    k = int(input(\"Enter the value of k: \"))\n",
    "    \n",
    "    prime_count = 0\n",
    "    num = 1\n",
    "    \n",
    "    while prime_count < k:\n",
    "        num += 1\n",
    "        \n",
    "        if num > 1:\n",
    "            is_prime = True\n",
    "            for i in range(2, int(math.sqrt(num)) + 1):\n",
    "                if num % i == 0:\n",
    "                    is_prime = False\n",
    "                    break\n",
    "            if is_prime:\n",
    "                prime_count += 1\n",
    "    \n",
    "    print(f\"{k}th prime is {num}\")\n",
    "\n",
    "task_5()"
   ]
  },
  {
   "cell_type": "code",
   "execution_count": null,
   "id": "42faf3c6-8d31-471a-8d58-9c1890ba70de",
   "metadata": {},
   "outputs": [],
   "source": []
  }
 ],
 "metadata": {
  "kernelspec": {
   "display_name": "Python 3 (ipykernel)",
   "language": "python",
   "name": "python3"
  },
  "language_info": {
   "codemirror_mode": {
    "name": "ipython",
    "version": 3
   },
   "file_extension": ".py",
   "mimetype": "text/x-python",
   "name": "python",
   "nbconvert_exporter": "python",
   "pygments_lexer": "ipython3",
   "version": "3.12.4"
  }
 },
 "nbformat": 4,
 "nbformat_minor": 5
}
