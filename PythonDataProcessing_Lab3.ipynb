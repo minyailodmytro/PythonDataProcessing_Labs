{
 "cells": [
  {
   "attachments": {},
   "cell_type": "markdown",
   "id": "a203e6fb-dd7b-44a1-901e-7b459c4f9b34",
   "metadata": {},
   "source": [
    "# Laboratory Work #3 \"Using Pandas for Data Analysis\"\n",
    "## Executed by student of group KN-222b.e. Miniailo Dmytro"
   ]
  },
  {
   "cell_type": "markdown",
   "id": "15aef181-0e1d-454f-8fa4-bd011e96c328",
   "metadata": {},
   "source": [
    "**Objective:** Gain basic skills in using pandas for data analysis"
   ]
  },
  {
   "cell_type": "markdown",
   "id": "6707f61f-a267-4ef3-913c-a1fd167fb1cc",
   "metadata": {},
   "source": [
    "### Choosing variant"
   ]
  },
  {
   "cell_type": "code",
   "execution_count": 4,
   "id": "04899620-c968-4950-a01f-66ce25b3e957",
   "metadata": {},
   "outputs": [
    {
     "name": "stdout",
     "output_type": "stream",
     "text": [
      "4\n"
     ]
    }
   ],
   "source": [
    "N = ord(\"D\") % 5 + 1\n",
    "\n",
    "print(N)"
   ]
  },
  {
   "cell_type": "markdown",
   "id": "2aa1d646-3990-4827-a24f-4f03cd05336b",
   "metadata": {},
   "source": [
    "### Performing exercises"
   ]
  },
  {
   "cell_type": "markdown",
   "id": "2efa93e0-b71c-4d05-b7cf-2be85f211658",
   "metadata": {},
   "source": [
    "#### Libraries used in the tasks"
   ]
  },
  {
   "cell_type": "code",
   "execution_count": 7,
   "id": "d627d6d9-f1ba-4651-aa6b-80bea400dd25",
   "metadata": {},
   "outputs": [],
   "source": [
    "import pandas as pd\n",
    "import matplotlib.pyplot as plt"
   ]
  },
  {
   "cell_type": "markdown",
   "id": "1ee2e3de-8997-4b78-9119-ff5eaa211df2",
   "metadata": {},
   "source": [
    "#### Importing data"
   ]
  },
  {
   "cell_type": "code",
   "execution_count": 9,
   "id": "2ab44495-5ac2-4172-bb94-bb3f87db9fd4",
   "metadata": {},
   "outputs": [],
   "source": [
    "df = pd.read_csv(r'NationalNames.csv')"
   ]
  },
  {
   "cell_type": "markdown",
   "id": "58ff682b-861e-4597-81a4-564a618f619b",
   "metadata": {},
   "source": [
    "#### 1. Output the first 8 rows of the dataset"
   ]
  },
  {
   "cell_type": "code",
   "execution_count": 11,
   "id": "bdec015e-90cf-43af-a952-63db6e60471e",
   "metadata": {},
   "outputs": [
    {
     "data": {
      "text/html": [
       "<div>\n",
       "<style scoped>\n",
       "    .dataframe tbody tr th:only-of-type {\n",
       "        vertical-align: middle;\n",
       "    }\n",
       "\n",
       "    .dataframe tbody tr th {\n",
       "        vertical-align: top;\n",
       "    }\n",
       "\n",
       "    .dataframe thead th {\n",
       "        text-align: right;\n",
       "    }\n",
       "</style>\n",
       "<table border=\"1\" class=\"dataframe\">\n",
       "  <thead>\n",
       "    <tr style=\"text-align: right;\">\n",
       "      <th></th>\n",
       "      <th>Id</th>\n",
       "      <th>Name</th>\n",
       "      <th>Year</th>\n",
       "      <th>Gender</th>\n",
       "      <th>Count</th>\n",
       "    </tr>\n",
       "  </thead>\n",
       "  <tbody>\n",
       "    <tr>\n",
       "      <th>0</th>\n",
       "      <td>1</td>\n",
       "      <td>Mary</td>\n",
       "      <td>1880</td>\n",
       "      <td>F</td>\n",
       "      <td>7065</td>\n",
       "    </tr>\n",
       "    <tr>\n",
       "      <th>1</th>\n",
       "      <td>2</td>\n",
       "      <td>Anna</td>\n",
       "      <td>1880</td>\n",
       "      <td>F</td>\n",
       "      <td>2604</td>\n",
       "    </tr>\n",
       "    <tr>\n",
       "      <th>2</th>\n",
       "      <td>3</td>\n",
       "      <td>Emma</td>\n",
       "      <td>1880</td>\n",
       "      <td>F</td>\n",
       "      <td>2003</td>\n",
       "    </tr>\n",
       "    <tr>\n",
       "      <th>3</th>\n",
       "      <td>4</td>\n",
       "      <td>Elizabeth</td>\n",
       "      <td>1880</td>\n",
       "      <td>F</td>\n",
       "      <td>1939</td>\n",
       "    </tr>\n",
       "    <tr>\n",
       "      <th>4</th>\n",
       "      <td>5</td>\n",
       "      <td>Minnie</td>\n",
       "      <td>1880</td>\n",
       "      <td>F</td>\n",
       "      <td>1746</td>\n",
       "    </tr>\n",
       "    <tr>\n",
       "      <th>5</th>\n",
       "      <td>6</td>\n",
       "      <td>Margaret</td>\n",
       "      <td>1880</td>\n",
       "      <td>F</td>\n",
       "      <td>1578</td>\n",
       "    </tr>\n",
       "    <tr>\n",
       "      <th>6</th>\n",
       "      <td>7</td>\n",
       "      <td>Ida</td>\n",
       "      <td>1880</td>\n",
       "      <td>F</td>\n",
       "      <td>1472</td>\n",
       "    </tr>\n",
       "    <tr>\n",
       "      <th>7</th>\n",
       "      <td>8</td>\n",
       "      <td>Alice</td>\n",
       "      <td>1880</td>\n",
       "      <td>F</td>\n",
       "      <td>1414</td>\n",
       "    </tr>\n",
       "  </tbody>\n",
       "</table>\n",
       "</div>"
      ],
      "text/plain": [
       "   Id       Name  Year Gender  Count\n",
       "0   1       Mary  1880      F   7065\n",
       "1   2       Anna  1880      F   2604\n",
       "2   3       Emma  1880      F   2003\n",
       "3   4  Elizabeth  1880      F   1939\n",
       "4   5     Minnie  1880      F   1746\n",
       "5   6   Margaret  1880      F   1578\n",
       "6   7        Ida  1880      F   1472\n",
       "7   8      Alice  1880      F   1414"
      ]
     },
     "execution_count": 11,
     "metadata": {},
     "output_type": "execute_result"
    }
   ],
   "source": [
    "df.head(8)"
   ]
  },
  {
   "cell_type": "markdown",
   "id": "290c86cb-e1cb-4021-b866-19186a0b81f6",
   "metadata": {},
   "source": [
    "#### 3. Get the names of dataset columns"
   ]
  },
  {
   "cell_type": "code",
   "execution_count": 13,
   "id": "35ff66f9-6c65-46b3-9719-b9979e870bdc",
   "metadata": {},
   "outputs": [
    {
     "data": {
      "text/plain": [
       "Index(['Id', 'Name', 'Year', 'Gender', 'Count'], dtype='object')"
      ]
     },
     "execution_count": 13,
     "metadata": {},
     "output_type": "execute_result"
    }
   ],
   "source": [
    "df.columns"
   ]
  },
  {
   "cell_type": "markdown",
   "id": "b392687f-96d3-42e3-b897-444899159895",
   "metadata": {},
   "source": [
    "#### 6. Calculate the number of unique female and male names in whole dataset"
   ]
  },
  {
   "cell_type": "code",
   "execution_count": 15,
   "id": "68bb4d1d-f6f9-4afa-8503-eda70c09835c",
   "metadata": {},
   "outputs": [
    {
     "data": {
      "text/html": [
       "<div>\n",
       "<style scoped>\n",
       "    .dataframe tbody tr th:only-of-type {\n",
       "        vertical-align: middle;\n",
       "    }\n",
       "\n",
       "    .dataframe tbody tr th {\n",
       "        vertical-align: top;\n",
       "    }\n",
       "\n",
       "    .dataframe thead th {\n",
       "        text-align: right;\n",
       "    }\n",
       "</style>\n",
       "<table border=\"1\" class=\"dataframe\">\n",
       "  <thead>\n",
       "    <tr style=\"text-align: right;\">\n",
       "      <th></th>\n",
       "      <th>Name</th>\n",
       "    </tr>\n",
       "    <tr>\n",
       "      <th>Gender</th>\n",
       "      <th></th>\n",
       "    </tr>\n",
       "  </thead>\n",
       "  <tbody>\n",
       "    <tr>\n",
       "      <th>F</th>\n",
       "      <td>64911</td>\n",
       "    </tr>\n",
       "    <tr>\n",
       "      <th>M</th>\n",
       "      <td>39199</td>\n",
       "    </tr>\n",
       "  </tbody>\n",
       "</table>\n",
       "</div>"
      ],
      "text/plain": [
       "         Name\n",
       "Gender       \n",
       "F       64911\n",
       "M       39199"
      ]
     },
     "execution_count": 15,
     "metadata": {},
     "output_type": "execute_result"
    }
   ],
   "source": [
    "df.groupby(['Gender'])[['Name']].nunique()"
   ]
  },
  {
   "cell_type": "markdown",
   "id": "232332cb-241a-448a-a34e-a034fd9d82b7",
   "metadata": {},
   "source": [
    "#### 7. Find 5 the most popular male names in 2010"
   ]
  },
  {
   "cell_type": "code",
   "execution_count": 17,
   "id": "236df147-a28b-442c-91e4-04a05a448b62",
   "metadata": {},
   "outputs": [
    {
     "data": {
      "text/html": [
       "<div>\n",
       "<style scoped>\n",
       "    .dataframe tbody tr th:only-of-type {\n",
       "        vertical-align: middle;\n",
       "    }\n",
       "\n",
       "    .dataframe tbody tr th {\n",
       "        vertical-align: top;\n",
       "    }\n",
       "\n",
       "    .dataframe thead th {\n",
       "        text-align: right;\n",
       "    }\n",
       "</style>\n",
       "<table border=\"1\" class=\"dataframe\">\n",
       "  <thead>\n",
       "    <tr style=\"text-align: right;\">\n",
       "      <th></th>\n",
       "      <th>Id</th>\n",
       "      <th>Name</th>\n",
       "      <th>Year</th>\n",
       "      <th>Gender</th>\n",
       "      <th>Count</th>\n",
       "    </tr>\n",
       "  </thead>\n",
       "  <tbody>\n",
       "    <tr>\n",
       "      <th>1677392</th>\n",
       "      <td>1677393</td>\n",
       "      <td>Jacob</td>\n",
       "      <td>2010</td>\n",
       "      <td>M</td>\n",
       "      <td>22082</td>\n",
       "    </tr>\n",
       "    <tr>\n",
       "      <th>1677393</th>\n",
       "      <td>1677394</td>\n",
       "      <td>Ethan</td>\n",
       "      <td>2010</td>\n",
       "      <td>M</td>\n",
       "      <td>17985</td>\n",
       "    </tr>\n",
       "    <tr>\n",
       "      <th>1677394</th>\n",
       "      <td>1677395</td>\n",
       "      <td>Michael</td>\n",
       "      <td>2010</td>\n",
       "      <td>M</td>\n",
       "      <td>17308</td>\n",
       "    </tr>\n",
       "    <tr>\n",
       "      <th>1677395</th>\n",
       "      <td>1677396</td>\n",
       "      <td>Jayden</td>\n",
       "      <td>2010</td>\n",
       "      <td>M</td>\n",
       "      <td>17152</td>\n",
       "    </tr>\n",
       "    <tr>\n",
       "      <th>1677396</th>\n",
       "      <td>1677397</td>\n",
       "      <td>William</td>\n",
       "      <td>2010</td>\n",
       "      <td>M</td>\n",
       "      <td>17030</td>\n",
       "    </tr>\n",
       "  </tbody>\n",
       "</table>\n",
       "</div>"
      ],
      "text/plain": [
       "              Id     Name  Year Gender  Count\n",
       "1677392  1677393    Jacob  2010      M  22082\n",
       "1677393  1677394    Ethan  2010      M  17985\n",
       "1677394  1677395  Michael  2010      M  17308\n",
       "1677395  1677396   Jayden  2010      M  17152\n",
       "1677396  1677397  William  2010      M  17030"
      ]
     },
     "execution_count": 17,
     "metadata": {},
     "output_type": "execute_result"
    }
   ],
   "source": [
    "df[(df['Gender'] == 'M') & (df['Year'] == 2010)].sort_values(by='Count', ascending=False).head(5)"
   ]
  },
  {
   "cell_type": "markdown",
   "id": "dac8b75b-0327-4ea3-a159-f0e9e2a220a6",
   "metadata": {},
   "source": [
    "#### 8. Find the most popular name based on the results of one year)"
   ]
  },
  {
   "cell_type": "code",
   "execution_count": 19,
   "id": "d2a26cd3-5fa5-40d9-a521-c04f3362d1e6",
   "metadata": {},
   "outputs": [],
   "source": [
    "def most_popular_name(year):\n",
    "    most_popular = df[(df['Year'] == year)].sort_values(by='Count', ascending=False).head(1)\n",
    "    return most_popular['Name'].values[0]"
   ]
  },
  {
   "cell_type": "code",
   "execution_count": 20,
   "id": "ed302be5-2885-4816-8aef-ed21f1b12430",
   "metadata": {},
   "outputs": [
    {
     "name": "stdout",
     "output_type": "stream",
     "text": [
      "The name is 'Linda' in 1947\n",
      "\n",
      "The name is 'James' in 1950\n",
      "\n",
      "The name is 'James' in 1951\n",
      "\n",
      "The name is 'James' in 1952\n",
      "\n",
      "The name is 'Robert' in 1953\n",
      "\n",
      "The name is 'Michael' in 1954\n",
      "\n",
      "The name is 'Michael' in 1955\n",
      "\n"
     ]
    }
   ],
   "source": [
    "print('The name is \\'' + most_popular_name(1947) + '\\' in ' + str(1947) + '\\n')\n",
    "for year in range(1950, 1956):\n",
    "    print('The name is \\'' + most_popular_name(year) + '\\' in ' + str(year) + '\\n')"
   ]
  },
  {
   "cell_type": "markdown",
   "id": "dc84d180-c90d-4cdf-8bbc-f24785117b3a",
   "metadata": {},
   "source": [
    "#### 13. Find the year when the name “Jacob” was the most popular as a female name"
   ]
  },
  {
   "cell_type": "code",
   "execution_count": 22,
   "id": "d2c64171-3fd1-44e3-9505-e3e4bdeeea2f",
   "metadata": {},
   "outputs": [
    {
     "data": {
      "text/html": [
       "<div>\n",
       "<style scoped>\n",
       "    .dataframe tbody tr th:only-of-type {\n",
       "        vertical-align: middle;\n",
       "    }\n",
       "\n",
       "    .dataframe tbody tr th {\n",
       "        vertical-align: top;\n",
       "    }\n",
       "\n",
       "    .dataframe thead th {\n",
       "        text-align: right;\n",
       "    }\n",
       "</style>\n",
       "<table border=\"1\" class=\"dataframe\">\n",
       "  <thead>\n",
       "    <tr style=\"text-align: right;\">\n",
       "      <th></th>\n",
       "      <th>Id</th>\n",
       "      <th>Name</th>\n",
       "      <th>Year</th>\n",
       "      <th>Gender</th>\n",
       "      <th>Count</th>\n",
       "    </tr>\n",
       "  </thead>\n",
       "  <tbody>\n",
       "    <tr>\n",
       "      <th>1455556</th>\n",
       "      <td>1455557</td>\n",
       "      <td>Jacob</td>\n",
       "      <td>2004</td>\n",
       "      <td>F</td>\n",
       "      <td>171</td>\n",
       "    </tr>\n",
       "  </tbody>\n",
       "</table>\n",
       "</div>"
      ],
      "text/plain": [
       "              Id   Name  Year Gender  Count\n",
       "1455556  1455557  Jacob  2004      F    171"
      ]
     },
     "execution_count": 22,
     "metadata": {},
     "output_type": "execute_result"
    }
   ],
   "source": [
    "df[(df['Gender'] == 'F') & (df['Name'] == 'Jacob')].sort_values(by='Count', ascending=False).head(1)"
   ]
  },
  {
   "cell_type": "markdown",
   "id": "32b0ba13-ff05-42a0-bbcb-6cc913e87d52",
   "metadata": {},
   "source": [
    "#### 14. Find year, with the most number of gender neutral names"
   ]
  },
  {
   "cell_type": "code",
   "execution_count": 24,
   "id": "078404f9-525a-4ba3-9eeb-002611b157b8",
   "metadata": {},
   "outputs": [
    {
     "data": {
      "text/html": [
       "<div>\n",
       "<style scoped>\n",
       "    .dataframe tbody tr th:only-of-type {\n",
       "        vertical-align: middle;\n",
       "    }\n",
       "\n",
       "    .dataframe tbody tr th {\n",
       "        vertical-align: top;\n",
       "    }\n",
       "\n",
       "    .dataframe thead th {\n",
       "        text-align: right;\n",
       "    }\n",
       "</style>\n",
       "<table border=\"1\" class=\"dataframe\">\n",
       "  <thead>\n",
       "    <tr style=\"text-align: right;\">\n",
       "      <th></th>\n",
       "      <th>Gender_neutral_names</th>\n",
       "    </tr>\n",
       "    <tr>\n",
       "      <th>Year</th>\n",
       "      <th></th>\n",
       "    </tr>\n",
       "  </thead>\n",
       "  <tbody>\n",
       "    <tr>\n",
       "      <th>2008</th>\n",
       "      <td>2557</td>\n",
       "    </tr>\n",
       "  </tbody>\n",
       "</table>\n",
       "</div>"
      ],
      "text/plain": [
       "      Gender_neutral_names\n",
       "Year                      \n",
       "2008                  2557"
      ]
     },
     "execution_count": 24,
     "metadata": {},
     "output_type": "execute_result"
    }
   ],
   "source": [
    "gender_neutral_df = df.groupby(['Year', 'Name'])['Gender'].nunique().reset_index()\n",
    "gender_neutral_df = gender_neutral_df[gender_neutral_df['Gender'] > 1]\n",
    "\n",
    "gender_neutral_counts = gender_neutral_df.groupby('Year').size().reset_index(name='Gender_neutral_names')\n",
    "max_year = gender_neutral_counts.loc[gender_neutral_counts['Gender_neutral_names'].idxmax()]\n",
    "\n",
    "result = pd.DataFrame({\n",
    "    'Year': [max_year['Year']],\n",
    "    'Gender_neutral_names': [max_year['Gender_neutral_names']]\n",
    "})\n",
    "result.set_index('Year', inplace=True)\n",
    "\n",
    "result"
   ]
  },
  {
   "cell_type": "markdown",
   "id": "73b7c7e4-3c6f-4980-a1ef-51256b090ae4",
   "metadata": {},
   "source": [
    "#### 15. Find total births per year"
   ]
  },
  {
   "cell_type": "code",
   "execution_count": 26,
   "id": "20700189-fdb9-4a73-b259-20044228e7fc",
   "metadata": {},
   "outputs": [
    {
     "data": {
      "text/html": [
       "<div>\n",
       "<style scoped>\n",
       "    .dataframe tbody tr th:only-of-type {\n",
       "        vertical-align: middle;\n",
       "    }\n",
       "\n",
       "    .dataframe tbody tr th {\n",
       "        vertical-align: top;\n",
       "    }\n",
       "\n",
       "    .dataframe thead th {\n",
       "        text-align: right;\n",
       "    }\n",
       "</style>\n",
       "<table border=\"1\" class=\"dataframe\">\n",
       "  <thead>\n",
       "    <tr style=\"text-align: right;\">\n",
       "      <th></th>\n",
       "      <th>Count</th>\n",
       "    </tr>\n",
       "    <tr>\n",
       "      <th>Year</th>\n",
       "      <th></th>\n",
       "    </tr>\n",
       "  </thead>\n",
       "  <tbody>\n",
       "    <tr>\n",
       "      <th>1880</th>\n",
       "      <td>201484</td>\n",
       "    </tr>\n",
       "    <tr>\n",
       "      <th>1881</th>\n",
       "      <td>192699</td>\n",
       "    </tr>\n",
       "    <tr>\n",
       "      <th>1882</th>\n",
       "      <td>221538</td>\n",
       "    </tr>\n",
       "    <tr>\n",
       "      <th>1883</th>\n",
       "      <td>216950</td>\n",
       "    </tr>\n",
       "    <tr>\n",
       "      <th>1884</th>\n",
       "      <td>243467</td>\n",
       "    </tr>\n",
       "  </tbody>\n",
       "</table>\n",
       "</div>"
      ],
      "text/plain": [
       "       Count\n",
       "Year        \n",
       "1880  201484\n",
       "1881  192699\n",
       "1882  221538\n",
       "1883  216950\n",
       "1884  243467"
      ]
     },
     "execution_count": 26,
     "metadata": {},
     "output_type": "execute_result"
    }
   ],
   "source": [
    "df.groupby(['Year']).agg({'Count':'sum'}).head(5)"
   ]
  },
  {
   "cell_type": "markdown",
   "id": "1fc305ed-eb9c-49e9-8954-7ce1f6a9e147",
   "metadata": {},
   "source": [
    "#### 16. Find the year when the greatest number of children was born"
   ]
  },
  {
   "cell_type": "code",
   "execution_count": 28,
   "id": "3f7c42f3-9a17-4d8e-bdfd-8f4d4737a0bb",
   "metadata": {},
   "outputs": [
    {
     "name": "stdout",
     "output_type": "stream",
     "text": [
      "1957\n"
     ]
    }
   ],
   "source": [
    "print(df.groupby('Year')['Count'].sum().idxmax())"
   ]
  },
  {
   "cell_type": "markdown",
   "id": "3d2dccd8-a1fe-4a72-8a6f-1923b76f1001",
   "metadata": {},
   "source": [
    "#### 17. Find the number of girls and boys that were born in each year"
   ]
  },
  {
   "cell_type": "code",
   "execution_count": 30,
   "id": "8026105c-1dc7-45b0-a66f-1e20ac6894a0",
   "metadata": {},
   "outputs": [
    {
     "data": {
      "text/html": [
       "<div>\n",
       "<style scoped>\n",
       "    .dataframe tbody tr th:only-of-type {\n",
       "        vertical-align: middle;\n",
       "    }\n",
       "\n",
       "    .dataframe tbody tr th {\n",
       "        vertical-align: top;\n",
       "    }\n",
       "\n",
       "    .dataframe thead th {\n",
       "        text-align: right;\n",
       "    }\n",
       "</style>\n",
       "<table border=\"1\" class=\"dataframe\">\n",
       "  <thead>\n",
       "    <tr style=\"text-align: right;\">\n",
       "      <th>Gender</th>\n",
       "      <th>F</th>\n",
       "      <th>M</th>\n",
       "    </tr>\n",
       "    <tr>\n",
       "      <th>Year</th>\n",
       "      <th></th>\n",
       "      <th></th>\n",
       "    </tr>\n",
       "  </thead>\n",
       "  <tbody>\n",
       "    <tr>\n",
       "      <th>1880</th>\n",
       "      <td>90993</td>\n",
       "      <td>110491</td>\n",
       "    </tr>\n",
       "    <tr>\n",
       "      <th>1881</th>\n",
       "      <td>91954</td>\n",
       "      <td>100745</td>\n",
       "    </tr>\n",
       "    <tr>\n",
       "      <th>1882</th>\n",
       "      <td>107850</td>\n",
       "      <td>113688</td>\n",
       "    </tr>\n",
       "    <tr>\n",
       "      <th>1883</th>\n",
       "      <td>112321</td>\n",
       "      <td>104629</td>\n",
       "    </tr>\n",
       "    <tr>\n",
       "      <th>1884</th>\n",
       "      <td>129022</td>\n",
       "      <td>114445</td>\n",
       "    </tr>\n",
       "  </tbody>\n",
       "</table>\n",
       "</div>"
      ],
      "text/plain": [
       "Gender       F       M\n",
       "Year                  \n",
       "1880     90993  110491\n",
       "1881     91954  100745\n",
       "1882    107850  113688\n",
       "1883    112321  104629\n",
       "1884    129022  114445"
      ]
     },
     "execution_count": 30,
     "metadata": {},
     "output_type": "execute_result"
    }
   ],
   "source": [
    "df.groupby(['Year', 'Gender'])['Count'].sum().unstack().head(5)"
   ]
  },
  {
   "cell_type": "markdown",
   "id": "e08f22c7-144c-49bd-ba54-eacbf094b829",
   "metadata": {},
   "source": [
    "#### 19. Draw the plot of total births per year of boys and girls"
   ]
  },
  {
   "cell_type": "code",
   "execution_count": 32,
   "id": "8f08ae15-d787-4dec-9d46-d2d584266503",
   "metadata": {},
   "outputs": [
    {
     "data": {
      "image/png": "[encoded data removed]",
      "text/plain": [
       "<Figure size 640x480 with 1 Axes>"
      ]
     },
     "metadata": {},
     "output_type": "display_data"
    }
   ],
   "source": [
    "df.groupby(['Year', 'Gender'])['Count'].sum().unstack().plot(kind='line', title='Total births per year')\n",
    "plt.xlabel('Year')\n",
    "plt.ylabel('Number of births')\n",
    "plt.ticklabel_format(style='plain', axis='y')\n",
    "plt.show()"
   ]
  },
  {
   "cell_type": "markdown",
   "id": "18474a3c-bbda-459a-843c-bdd5772d3e01",
   "metadata": {},
   "source": [
    "#### 20. Count number of gender neutral names (same for girls and boys)"
   ]
  },
  {
   "cell_type": "code",
   "execution_count": 34,
   "id": "eb7ae9d6-c8bc-4e99-bbc9-dff50a9edd0c",
   "metadata": {},
   "outputs": [
    {
     "data": {
      "text/plain": [
       "10221"
      ]
     },
     "execution_count": 34,
     "metadata": {},
     "output_type": "execute_result"
    }
   ],
   "source": [
    "df.groupby('Name')['Gender'].nunique().eq(2).sum()"
   ]
  },
  {
   "cell_type": "markdown",
   "id": "8e9e54a8-6343-406c-83b7-6c5efc28e9fc",
   "metadata": {},
   "source": [
    "#### 22. Calculate how many years the observation was carried out"
   ]
  },
  {
   "cell_type": "code",
   "execution_count": 36,
   "id": "4a4633c6-c77d-4584-b1c5-02e44deccc52",
   "metadata": {},
   "outputs": [
    {
     "name": "stdout",
     "output_type": "stream",
     "text": [
      "The observation was carried out for 135 years\n"
     ]
    }
   ],
   "source": [
    "print('The observation was carried out for ' + str(df['Year'].nunique()) + ' years')"
   ]
  },
  {
   "cell_type": "markdown",
   "id": "1b669864-6cca-46b5-a64f-8648537b5c76",
   "metadata": {},
   "source": [
    "#### 24. Find the most popular unpopular names (unpopular name that babies have been called the most times)"
   ]
  },
  {
   "cell_type": "code",
   "execution_count": 38,
   "id": "9f844bba-a608-4d83-a027-8a355bcba0a0",
   "metadata": {},
   "outputs": [
    {
     "name": "stdout",
     "output_type": "stream",
     "text": [
      "Celester is the most popular unpopular name. This name was given to babies 160 times.\n"
     ]
    }
   ],
   "source": [
    "unpopular_names = df[df['Count'] < 6].groupby('Name')['Count'].sum()\n",
    "most_popular_unpopular_name = unpopular_names.idxmax()\n",
    "most_popular_unpopular_count = unpopular_names.max()\n",
    "\n",
    "print(f'{most_popular_unpopular_name} is the most popular unpopular name. This name was given to babies {most_popular_unpopular_count} times.')"
   ]
  },
  {
   "cell_type": "markdown",
   "id": "5707194c-8324-4a65-ba70-062d0d393024",
   "metadata": {},
   "source": [
    "#### 25. Plot graphs of the distribution of the number of names “John” and “Mary” by year regardless of gender"
   ]
  },
  {
   "cell_type": "code",
   "execution_count": 40,
   "id": "a8e3494b-2a60-4c2e-8081-574474e4d720",
   "metadata": {},
   "outputs": [
    {
     "data": {
      "image/png": "[encoded data removed]",
      "text/plain": [
       "<Figure size 640x480 with 1 Axes>"
      ]
     },
     "metadata": {},
     "output_type": "display_data"
    }
   ],
   "source": [
    "john_mary = df[df['Name'].isin(['John', 'Mary'])].groupby(['Year', 'Name'])['Count'].sum().unstack()\n",
    "\n",
    "john_mary.plot(kind='line', title='Distribution of John and Mary names by year')\n",
    "plt.xlabel('Year')\n",
    "plt.ylabel('Number of births')\n",
    "plt.ticklabel_format(style='plain', axis='y')\n",
    "plt.show()"
   ]
  },
  {
   "cell_type": "markdown",
   "id": "baa2e2d3-8156-4b28-a9ef-3a104194c800",
   "metadata": {},
   "source": [
    "#### 26. Plot graphs of the distribution of the number of female names “John” and male names “Mary” by year"
   ]
  },
  {
   "cell_type": "code",
   "execution_count": 42,
   "id": "de39f23c-c09f-4e9b-a80d-855979267cf8",
   "metadata": {},
   "outputs": [
    {
     "data": {
      "image/png": "[encoded data removed]",
      "text/plain": [
       "<Figure size 640x480 with 1 Axes>"
      ]
     },
     "metadata": {},
     "output_type": "display_data"
    }
   ],
   "source": [
    "john_female_mary_male = df[((df['Name'] == 'John') & (df['Gender'] == 'F')) | ((df['Name'] == 'Mary') & (df['Gender'] == 'M'))].groupby(['Year', 'Name'])['Count'].sum().unstack()\n",
    "\n",
    "john_female_mary_male.plot(kind='line', title='Distribution of female John and male Mary names by year')\n",
    "plt.xlabel('Year')\n",
    "plt.ylabel('Number of births')\n",
    "plt.ticklabel_format(style='plain', axis='y')\n",
    "plt.show()"
   ]
  },
  {
   "cell_type": "markdown",
   "id": "e13e3ff4-fce3-4f5e-b5a2-73d623c8ba46",
   "metadata": {},
   "source": [
    "#### 27. Find the most popular names each year"
   ]
  },
  {
   "cell_type": "code",
   "execution_count": 44,
   "id": "053b606a-efa6-43d9-92ea-30ea8fe7ae5e",
   "metadata": {},
   "outputs": [
    {
     "data": {
      "text/html": [
       "<div>\n",
       "<style scoped>\n",
       "    .dataframe tbody tr th:only-of-type {\n",
       "        vertical-align: middle;\n",
       "    }\n",
       "\n",
       "    .dataframe tbody tr th {\n",
       "        vertical-align: top;\n",
       "    }\n",
       "\n",
       "    .dataframe thead th {\n",
       "        text-align: right;\n",
       "    }\n",
       "</style>\n",
       "<table border=\"1\" class=\"dataframe\">\n",
       "  <thead>\n",
       "    <tr style=\"text-align: right;\">\n",
       "      <th></th>\n",
       "      <th>Year</th>\n",
       "      <th>Name</th>\n",
       "      <th>Count</th>\n",
       "    </tr>\n",
       "  </thead>\n",
       "  <tbody>\n",
       "    <tr>\n",
       "      <th>942</th>\n",
       "      <td>1880</td>\n",
       "      <td>John</td>\n",
       "      <td>9655</td>\n",
       "    </tr>\n",
       "    <tr>\n",
       "      <th>2938</th>\n",
       "      <td>1881</td>\n",
       "      <td>John</td>\n",
       "      <td>8769</td>\n",
       "    </tr>\n",
       "    <tr>\n",
       "      <th>4963</th>\n",
       "      <td>1882</td>\n",
       "      <td>John</td>\n",
       "      <td>9557</td>\n",
       "    </tr>\n",
       "    <tr>\n",
       "      <th>7116</th>\n",
       "      <td>1883</td>\n",
       "      <td>John</td>\n",
       "      <td>8894</td>\n",
       "    </tr>\n",
       "    <tr>\n",
       "      <th>9318</th>\n",
       "      <td>1884</td>\n",
       "      <td>John</td>\n",
       "      <td>9388</td>\n",
       "    </tr>\n",
       "    <tr>\n",
       "      <th>...</th>\n",
       "      <td>...</td>\n",
       "      <td>...</td>\n",
       "      <td>...</td>\n",
       "    </tr>\n",
       "    <tr>\n",
       "      <th>1657592</th>\n",
       "      <td>2010</td>\n",
       "      <td>Isabella</td>\n",
       "      <td>22883</td>\n",
       "    </tr>\n",
       "    <tr>\n",
       "      <th>1691633</th>\n",
       "      <td>2011</td>\n",
       "      <td>Sophia</td>\n",
       "      <td>21816</td>\n",
       "    </tr>\n",
       "    <tr>\n",
       "      <th>1725502</th>\n",
       "      <td>2012</td>\n",
       "      <td>Sophia</td>\n",
       "      <td>22267</td>\n",
       "    </tr>\n",
       "    <tr>\n",
       "      <th>1759186</th>\n",
       "      <td>2013</td>\n",
       "      <td>Sophia</td>\n",
       "      <td>21147</td>\n",
       "    </tr>\n",
       "    <tr>\n",
       "      <th>1792389</th>\n",
       "      <td>2014</td>\n",
       "      <td>Emma</td>\n",
       "      <td>20799</td>\n",
       "    </tr>\n",
       "  </tbody>\n",
       "</table>\n",
       "<p>135 rows × 3 columns</p>\n",
       "</div>"
      ],
      "text/plain": [
       "         Year      Name  Count\n",
       "942      1880      John   9655\n",
       "2938     1881      John   8769\n",
       "4963     1882      John   9557\n",
       "7116     1883      John   8894\n",
       "9318     1884      John   9388\n",
       "...       ...       ...    ...\n",
       "1657592  2010  Isabella  22883\n",
       "1691633  2011    Sophia  21816\n",
       "1725502  2012    Sophia  22267\n",
       "1759186  2013    Sophia  21147\n",
       "1792389  2014      Emma  20799\n",
       "\n",
       "[135 rows x 3 columns]"
      ]
     },
     "execution_count": 44,
     "metadata": {},
     "output_type": "execute_result"
    }
   ],
   "source": [
    "df.loc[df.groupby(['Year'])['Count'].idxmax(), ['Year', 'Name', 'Count']]"
   ]
  },
  {
   "cell_type": "markdown",
   "id": "ed3a77ba-d35a-461f-832a-a675ee5e8b6f",
   "metadata": {},
   "source": [
    "**Conclusion:** During this laboratory work, I was gaining skills of using pandas for data analysis and visualisation."
   ]
  }
 ],
 "metadata": {
  "kernelspec": {
   "display_name": "Python 3 (ipykernel)",
   "language": "python",
   "name": "python3"
  },
  "language_info": {
   "codemirror_mode": {
    "name": "ipython",
    "version": 3
   },
   "file_extension": ".py",
   "mimetype": "text/x-python",
   "name": "python",
   "nbconvert_exporter": "python",
   "pygments_lexer": "ipython3",
   "version": "3.12.4"
  }
 },
 "nbformat": 4,
 "nbformat_minor": 5
}
